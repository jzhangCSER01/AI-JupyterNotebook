{
 "cells": [
  {
   "cell_type": "markdown",
   "id": "74c142a8",
   "metadata": {},
   "source": [
    "# 逻辑回归预测考试通过\n",
    "任务：\n",
    "基于 examdata.csv 数据，建立逻辑回归模型 预测 Exam1 = 75, Exam2 = 60 时，该同学在 Exam3 是 passed or failed;\n",
    "建立二阶边界，提高模型准确度"
   ]
  },
  {
   "cell_type": "code",
   "execution_count": null,
   "id": "82a31071",
   "metadata": {},
   "outputs": [],
   "source": []
  }
 ],
 "metadata": {
  "kernelspec": {
   "display_name": "Python 3 (ipykernel)",
   "language": "python",
   "name": "python3"
  },
  "language_info": {
   "codemirror_mode": {
    "name": "ipython",
    "version": 3
   },
   "file_extension": ".py",
   "mimetype": "text/x-python",
   "name": "python",
   "nbconvert_exporter": "python",
   "pygments_lexer": "ipython3",
   "version": "3.10.4"
  }
 },
 "nbformat": 4,
 "nbformat_minor": 5
}
