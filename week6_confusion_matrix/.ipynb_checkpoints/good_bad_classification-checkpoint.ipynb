{
 "cells": [
  {
   "cell_type": "markdown",
   "id": "945e2111",
   "metadata": {},
   "source": [
    "好坏质检分类实战 task:\n",
    "1、基于 data_class_raw.csv 数据，根据高斯分布概率密度函数，寻找异常点并剔除;\n",
    "2、基于 data_class_processed.csv 数据，进行 PCA 处理，确定重要数据维度及成分;\n",
    "3、完成数据分离，数据分离参数: random_state = 4, test_size = 0.4;\n",
    "4、建立 KNN 模型完成分类，n_neighbors 取 10，计算分类准确率，可视化分类边界;\n",
    "5、计算测试数据集对应的混淆矩阵，计算准确率、召回率、特异度、精确率、F1 分数;\n",
    "6、尝试不同的 n_neighbors(1-20)，计算其在训练数据集、测试数据集上的准确率并作图"
   ]
  },
  {
   "cell_type": "code",
   "execution_count": 1,
   "id": "cdc6922e",
   "metadata": {},
   "outputs": [
    {
     "data": {
      "text/html": [
       "<div>\n",
       "<style scoped>\n",
       "    .dataframe tbody tr th:only-of-type {\n",
       "        vertical-align: middle;\n",
       "    }\n",
       "\n",
       "    .dataframe tbody tr th {\n",
       "        vertical-align: top;\n",
       "    }\n",
       "\n",
       "    .dataframe thead th {\n",
       "        text-align: right;\n",
       "    }\n",
       "</style>\n",
       "<table border=\"1\" class=\"dataframe\">\n",
       "  <thead>\n",
       "    <tr style=\"text-align: right;\">\n",
       "      <th></th>\n",
       "      <th>x1</th>\n",
       "      <th>x2</th>\n",
       "      <th>y</th>\n",
       "    </tr>\n",
       "  </thead>\n",
       "  <tbody>\n",
       "    <tr>\n",
       "      <th>0</th>\n",
       "      <td>0.77</td>\n",
       "      <td>3.97</td>\n",
       "      <td>0</td>\n",
       "    </tr>\n",
       "    <tr>\n",
       "      <th>1</th>\n",
       "      <td>1.71</td>\n",
       "      <td>2.81</td>\n",
       "      <td>0</td>\n",
       "    </tr>\n",
       "    <tr>\n",
       "      <th>2</th>\n",
       "      <td>2.18</td>\n",
       "      <td>1.31</td>\n",
       "      <td>0</td>\n",
       "    </tr>\n",
       "    <tr>\n",
       "      <th>3</th>\n",
       "      <td>3.80</td>\n",
       "      <td>0.69</td>\n",
       "      <td>0</td>\n",
       "    </tr>\n",
       "    <tr>\n",
       "      <th>4</th>\n",
       "      <td>5.21</td>\n",
       "      <td>1.14</td>\n",
       "      <td>0</td>\n",
       "    </tr>\n",
       "  </tbody>\n",
       "</table>\n",
       "</div>"
      ],
      "text/plain": [
       "     x1    x2  y\n",
       "0  0.77  3.97  0\n",
       "1  1.71  2.81  0\n",
       "2  2.18  1.31  0\n",
       "3  3.80  0.69  0\n",
       "4  5.21  1.14  0"
      ]
     },
     "execution_count": 1,
     "metadata": {},
     "output_type": "execute_result"
    }
   ],
   "source": [
    "# load the data\n",
    "import pandas as pd\n",
    "import numpy as np\n",
    "data = pd.read_csv('data_class_raw.csv')\n",
    "data.head()"
   ]
  },
  {
   "cell_type": "code",
   "execution_count": 3,
   "id": "e0801fe4",
   "metadata": {},
   "outputs": [
    {
     "data": {
      "text/plain": [
       "0    0\n",
       "1    0\n",
       "2    0\n",
       "3    0\n",
       "4    0\n",
       "Name: y, dtype: int64"
      ]
     },
     "execution_count": 3,
     "metadata": {},
     "output_type": "execute_result"
    }
   ],
   "source": [
    "# define X and y\n",
    "X = data.drop(['y'], axis=1)\n",
    "y = data.loc[:, 'y']\n",
    "y.head()"
   ]
  },
  {
   "cell_type": "code",
   "execution_count": 4,
   "id": "2ced0f8d",
   "metadata": {},
   "outputs": [
    {
     "data": {
      "image/png": "[encoded data removed]",
      "text/plain": [
       "<Figure size 360x360 with 1 Axes>"
      ]
     },
     "metadata": {
      "needs_background": "light"
     },
     "output_type": "display_data"
    }
   ],
   "source": [
    "# visualize the data\n",
    "%matplotlib inline\n",
    "from matplotlib import pyplot as plt\n",
    "fig1 = plt.figure(figsize=(5, 5))\n",
    "bad = plt.scatter(X.loc[:, 'x1'][y == 0], X.loc[:, 'x2'][y == 0])\n",
    "good = plt.scatter(X.loc[:, 'x1'][y == 1], X.loc[:, 'x2'][y == 1])\n",
    "plt.legend((good, bad), ('good', 'bad'))\n",
    "plt.title('raw data')\n",
    "plt.xlabel('x1')\n",
    "plt.ylabel('x2')\n",
    "plt.show()"
   ]
  },
  {
   "cell_type": "code",
   "execution_count": 7,
   "id": "8da5f385",
   "metadata": {},
   "outputs": [
    {
     "name": "stdout",
     "output_type": "stream",
     "text": [
      "[ 1  1  1  1  1  1  1  1  1  1  1  1  1  1  1  1  1  1 -1]\n",
      "[ 1  1 -1  1  1  1  1  1  1  1  1  1  1  1  1  1  1]\n"
     ]
    }
   ],
   "source": [
    "# anomaly detection\n",
    "from sklearn.covariance import EllipticEnvelope\n",
    "ad_model = EllipticEnvelope(contamination=0.02)\n",
    "ad_model.fit(X[y == 0])\n",
    "y_predict_bad = ad_model.predict(X[y == 0])\n",
    "print(y_predict_bad)\n",
    "ad_model.fit(X[y == 1])\n",
    "y_predict_good = ad_model.predict(X[y == 1])\n",
    "print(y_predict_good)"
   ]
  },
  {
   "cell_type": "code",
   "execution_count": 8,
   "id": "0e815a38",
   "metadata": {},
   "outputs": [
    {
     "data": {
      "image/png": "[encoded data removed]",
      "text/plain": [
       "<Figure size 360x360 with 1 Axes>"
      ]
     },
     "metadata": {
      "needs_background": "light"
     },
     "output_type": "display_data"
    }
   ],
   "source": [
    "fig2 = plt.figure(figsize=(5, 5))\n",
    "bad = plt.scatter(X.loc[:, 'x1'][y == 0], X.loc[:, 'x2'][y == 0])\n",
    "good = plt.scatter(X.loc[:, 'x1'][y == 1], X.loc[:, 'x2'][y == 1])\n",
    "plt.scatter(X.loc[:, 'x1'][y == 0][y_predict_bad == -1], X.loc[:, 'x2'][y == 0][y_predict_bad == -1], marker = 'x', s = 150)\n",
    "plt.scatter(X.loc[:, 'x1'][y == 1][y_predict_good == -1], X.loc[:, 'x2'][y == 1][y_predict_good == -1], marker = 'x', s = 150)\n",
    "plt.legend((good, bad), ('good', 'bad'))\n",
    "plt.title('raw data')\n",
    "plt.xlabel('x1')\n",
    "plt.ylabel('x2')\n",
    "plt.show()"
   ]
  },
  {
   "cell_type": "code",
   "execution_count": 9,
   "id": "a6864b91",
   "metadata": {},
   "outputs": [],
   "source": [
    "data = pd.read_csv('data_class_processed.csv')\n",
    "data.head()\n",
    "# define X and y\n",
    "X = data.drop(['y'], axis=1)\n",
    "y = data.loc[:, 'y']"
   ]
  },
  {
   "cell_type": "code",
   "execution_count": 11,
   "id": "dbd409dd",
   "metadata": {},
   "outputs": [
    {
     "name": "stdout",
     "output_type": "stream",
     "text": [
      "[0.5369408 0.4630592]\n"
     ]
    },
    {
     "data": {
      "image/png": "[encoded data removed]",
      "text/plain": [
       "<Figure size 360x360 with 1 Axes>"
      ]
     },
     "metadata": {
      "needs_background": "light"
     },
     "output_type": "display_data"
    }
   ],
   "source": [
    "# PCA\n",
    "from sklearn.preprocessing import StandardScaler\n",
    "from sklearn.decomposition import PCA\n",
    "X_norm = StandardScaler().fit_transform(X)\n",
    "pca = PCA(n_components=2)\n",
    "X_reduced = pca.fit_transform(X_norm)\n",
    "var_ratio = pca.explained_variance_ratio_\n",
    "print(var_ratio)\n",
    "fig3 = plt.figure(figsize=(5, 5))\n",
    "plt.bar([1, 2], var_ratio)\n",
    "plt.show()"
   ]
  },
  {
   "cell_type": "code",
   "execution_count": 12,
   "id": "f22a3991",
   "metadata": {},
   "outputs": [
    {
     "name": "stdout",
     "output_type": "stream",
     "text": [
      "(21, 2) (14, 2) (35, 2)\n"
     ]
    }
   ],
   "source": [
    "# train and test split: random_state = 4, test_size = 0.4\n",
    "from sklearn.model_selection import train_test_split\n",
    "X_train, X_test, y_train, y_test = train_test_split(X, y, random_state = 4, test_size = 0.4)\n",
    "print(X_train.shape, X_test.shape, X.shape)"
   ]
  },
  {
   "cell_type": "code",
   "execution_count": 13,
   "id": "ff617e08",
   "metadata": {},
   "outputs": [
    {
     "name": "stdout",
     "output_type": "stream",
     "text": [
      "training accuracy: 0.9047619047619048\n",
      "testing accuracy: 0.6428571428571429\n"
     ]
    }
   ],
   "source": [
    "# KNN model\n",
    "from sklearn.neighbors import KNeighborsClassifier\n",
    "knn_10 = KNeighborsClassifier(n_neighbors=10)\n",
    "knn_10.fit(X_train, y_train)\n",
    "y_train_predict = knn_10.predict(X_train)\n",
    "y_test_predict = knn_10.predict(X_test)\n",
    "\n",
    "# calculate the accuracy\n",
    "from sklearn.metrics import accuracy_score\n",
    "accuracy_train = accuracy_score(y_train, y_train_predict)\n",
    "accuracy_test = accuracy_score(y_test, y_test_predict)\n",
    "print('training accuracy:', accuracy_train)\n",
    "print('testing accuracy:', accuracy_test)"
   ]
  },
  {
   "cell_type": "code",
   "execution_count": 14,
   "id": "46a5b61e",
   "metadata": {},
   "outputs": [
    {
     "name": "stdout",
     "output_type": "stream",
     "text": [
      "[[0.   0.05 0.1  ... 9.85 9.9  9.95]\n",
      " [0.   0.05 0.1  ... 9.85 9.9  9.95]\n",
      " [0.   0.05 0.1  ... 9.85 9.9  9.95]\n",
      " ...\n",
      " [0.   0.05 0.1  ... 9.85 9.9  9.95]\n",
      " [0.   0.05 0.1  ... 9.85 9.9  9.95]\n",
      " [0.   0.05 0.1  ... 9.85 9.9  9.95]]\n"
     ]
    }
   ],
   "source": [
    "# visualize the knn result and boundary\n",
    "xx, yy = np.meshgrid(np.arange(0, 10, 0.05), np.arange(0, 10, 0.05))\n",
    "print(xx)"
   ]
  },
  {
   "cell_type": "code",
   "execution_count": 15,
   "id": "d3ab6d8f",
   "metadata": {},
   "outputs": [
    {
     "name": "stdout",
     "output_type": "stream",
     "text": [
      "(40000, 2)\n"
     ]
    }
   ],
   "source": [
    "x_range = np.c_[xx.ravel(), yy.ravel()]\n",
    "print(x_range.shape)"
   ]
  },
  {
   "cell_type": "code",
   "execution_count": 16,
   "id": "7da3ffa4",
   "metadata": {},
   "outputs": [
    {
     "name": "stderr",
     "output_type": "stream",
     "text": [
      "D:\\anaconda3\\envs\\learn_ai\\lib\\site-packages\\sklearn\\base.py:450: UserWarning: X does not have valid feature names, but KNeighborsClassifier was fitted with feature names\n",
      "  warnings.warn(\n"
     ]
    }
   ],
   "source": [
    "y_range_predict = knn_10.predict(x_range)"
   ]
  },
  {
   "cell_type": "code",
   "execution_count": 18,
   "id": "268d7354",
   "metadata": {},
   "outputs": [
    {
     "data": {
      "image/png": "[encoded data removed]",
      "text/plain": [
       "<Figure size 360x360 with 1 Axes>"
      ]
     },
     "metadata": {
      "needs_background": "light"
     },
     "output_type": "display_data"
    }
   ],
   "source": [
    "fig4 = plt.figure(figsize=(5, 5))\n",
    "knn_bad = plt.scatter(x_range[:, 0][y_range_predict == 0], x_range[:, 1][y_range_predict == 0])\n",
    "knn_good = plt.scatter(x_range[:, 0][y_range_predict == 1], x_range[:, 1][y_range_predict == 1])\n",
    "bad = plt.scatter(X.loc[:, 'x1'][y == 0], X.loc[:, 'x2'][y == 0])\n",
    "good = plt.scatter(X.loc[:, 'x1'][y == 1], X.loc[:, 'x2'][y == 1])\n",
    "plt.legend((good, bad, knn_good, knn_bad), ('good', 'bad', 'knn_good', 'knn_bad'))\n",
    "plt.title('prediction result')\n",
    "plt.xlabel('x1')\n",
    "plt.ylabel('x2')\n",
    "plt.show()"
   ]
  },
  {
   "cell_type": "code",
   "execution_count": 19,
   "id": "2a33e371",
   "metadata": {},
   "outputs": [
    {
     "name": "stdout",
     "output_type": "stream",
     "text": [
      "[[4 2]\n",
      " [3 5]]\n"
     ]
    }
   ],
   "source": [
    "from sklearn.metrics import confusion_matrix\n",
    "cm = confusion_matrix(y_test, y_test_predict)\n",
    "print(cm)"
   ]
  },
  {
   "cell_type": "code",
   "execution_count": 21,
   "id": "e159c4e4",
   "metadata": {},
   "outputs": [
    {
     "name": "stdout",
     "output_type": "stream",
     "text": [
      "5 4 2 3\n"
     ]
    }
   ],
   "source": [
    "TP = cm[1, 1]\n",
    "TN = cm[0, 0]\n",
    "FP = cm[0, 1]\n",
    "FN = cm[1, 0]\n",
    "print(TP, TN, FP, FN)"
   ]
  },
  {
   "cell_type": "markdown",
   "id": "ea71185f",
   "metadata": {},
   "source": [
    "准确率: 整体样本中，预测正确样本数的比例\n",
    "Accuracy = (TP + TN) / (TP + TN + FP +FN)"
   ]
  },
  {
   "cell_type": "code",
   "execution_count": 22,
   "id": "a0e16818",
   "metadata": {},
   "outputs": [
    {
     "name": "stdout",
     "output_type": "stream",
     "text": [
      "0.6428571428571429\n"
     ]
    }
   ],
   "source": [
    "accuracy = (TP + TN) / (TP + TN + FP +FN)\n",
    "print(accuracy)"
   ]
  },
  {
   "cell_type": "markdown",
   "id": "95173d9e",
   "metadata": {},
   "source": [
    "灵敏度（召回率）: 正样本中，预测正确的比例\n",
    "Sensitivity = TP / (TP + FN)"
   ]
  },
  {
   "cell_type": "code",
   "execution_count": 23,
   "id": "4a952875",
   "metadata": {},
   "outputs": [
    {
     "name": "stdout",
     "output_type": "stream",
     "text": [
      "0.625\n"
     ]
    }
   ],
   "source": [
    "recall = TP / (TP + FN)\n",
    "print(recall)"
   ]
  },
  {
   "cell_type": "markdown",
   "id": "79f70ddf",
   "metadata": {},
   "source": [
    "特异度: 负样本中，预测正确的比例\n",
    "Specificity = TN / (TN + FP)"
   ]
  },
  {
   "cell_type": "code",
   "execution_count": 25,
   "id": "26fd2f9e",
   "metadata": {},
   "outputs": [
    {
     "name": "stdout",
     "output_type": "stream",
     "text": [
      "0.6666666666666666\n"
     ]
    }
   ],
   "source": [
    "specificity = TN / (TN + FP)\n",
    "print(specificity)"
   ]
  },
  {
   "cell_type": "markdown",
   "id": "1c4a308d",
   "metadata": {},
   "source": [
    "精确率: 预测结果为正的样本中，预测正确的比例\n",
    "Precision = TP / (TP + FP)"
   ]
  },
  {
   "cell_type": "code",
   "execution_count": 26,
   "id": "119e8c0b",
   "metadata": {},
   "outputs": [
    {
     "name": "stdout",
     "output_type": "stream",
     "text": [
      "0.7142857142857143\n"
     ]
    }
   ],
   "source": [
    "precision = TP / (TP + FP)\n",
    "print(precision)"
   ]
  },
  {
   "cell_type": "markdown",
   "id": "e2cdfeb4",
   "metadata": {},
   "source": [
    "F1 分数: 综合 Precision 和 Recall 的一个判断指标\n",
    "F1 Score = 2 * Precision * Recall / (Precision + Recall)"
   ]
  },
  {
   "cell_type": "code",
   "execution_count": 27,
   "id": "bd6c2dc6",
   "metadata": {},
   "outputs": [
    {
     "name": "stdout",
     "output_type": "stream",
     "text": [
      "0.6666666666666666\n"
     ]
    }
   ],
   "source": [
    "f1 = 2 * precision * recall / (precision + recall)\n",
    "print(f1)"
   ]
  },
  {
   "cell_type": "code",
   "execution_count": 29,
   "id": "84a9bf0b",
   "metadata": {},
   "outputs": [
    {
     "name": "stdout",
     "output_type": "stream",
     "text": [
      "[1.0, 1.0, 1.0, 1.0, 1.0, 0.9523809523809523, 0.9523809523809523, 0.9523809523809523, 0.9047619047619048, 0.9047619047619048, 0.9047619047619048, 0.9523809523809523, 0.9047619047619048, 0.9047619047619048, 0.9523809523809523, 0.9047619047619048, 0.9047619047619048, 0.5714285714285714, 0.5714285714285714, 0.5714285714285714] [0.5714285714285714, 0.5, 0.5, 0.5714285714285714, 0.7142857142857143, 0.5714285714285714, 0.5714285714285714, 0.5714285714285714, 0.6428571428571429, 0.6428571428571429, 0.6428571428571429, 0.5714285714285714, 0.6428571428571429, 0.6428571428571429, 0.5714285714285714, 0.5714285714285714, 0.5714285714285714, 0.42857142857142855, 0.42857142857142855, 0.42857142857142855]\n"
     ]
    }
   ],
   "source": [
    "# try different k and calculate the  accuracy for each\n",
    "n = [i for i in range(1, 21)]\n",
    "accuracy_train = []\n",
    "accuracy_test = []\n",
    "for i in n:\n",
    "    knn = KNeighborsClassifier(n_neighbors=i)\n",
    "    knn.fit(X_train, y_train)\n",
    "    y_train_predict = knn.predict(X_train)\n",
    "    y_test_predict = knn.predict(X_test)\n",
    "    accuracy_train_i = accuracy_score(y_train, y_train_predict)\n",
    "    accuracy_test_i = accuracy_score(y_test, y_test_predict)\n",
    "    accuracy_train.append(accuracy_train_i)\n",
    "    accuracy_test.append(accuracy_test_i)\n",
    "print(accuracy_train, accuracy_test)"
   ]
  },
  {
   "cell_type": "code",
   "execution_count": 32,
   "id": "041c6ab3",
   "metadata": {},
   "outputs": [
    {
     "data": {
      "image/png": "[encoded data removed]",
      "text/plain": [
       "<Figure size 864x360 with 2 Axes>"
      ]
     },
     "metadata": {
      "needs_background": "light"
     },
     "output_type": "display_data"
    }
   ],
   "source": [
    "fig5 = plt.figure(figsize=(12, 5))\n",
    "plt.subplot(121)\n",
    "plt.plot(n, accuracy_train, marker = 'o')\n",
    "plt.title('training accuracy vs n_neighbors')\n",
    "plt.xlabel('n_neighbors')\n",
    "plt.ylabel('training accuracy')\n",
    "plt.subplot(122)\n",
    "plt.plot(n, accuracy_test, marker = 'o')\n",
    "plt.title('testing accuracy vs n_neighbors')\n",
    "plt.xlabel('n_neighbors')\n",
    "plt.ylabel('testing accuracy')\n",
    "plt.show()"
   ]
  }
 ],
 "metadata": {
  "kernelspec": {
   "display_name": "Python 3 (ipykernel)",
   "language": "python",
   "name": "python3"
  },
  "language_info": {
   "codemirror_mode": {
    "name": "ipython",
    "version": 3
   },
   "file_extension": ".py",
   "mimetype": "text/x-python",
   "name": "python",
   "nbconvert_exporter": "python",
   "pygments_lexer": "ipython3",
   "version": "3.10.4"
  }
 },
 "nbformat": 4,
 "nbformat_minor": 5
}
