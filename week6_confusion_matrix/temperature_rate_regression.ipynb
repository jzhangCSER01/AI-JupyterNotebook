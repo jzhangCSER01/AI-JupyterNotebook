{
 "cells": [
  {
   "cell_type": "markdown",
   "id": "6d894027",
   "metadata": {},
   "source": [
    "酶活性预测实战 task:\n",
    "1、基于 T-R-train.csv 数据，建立线性回归模型，计算其在 T-R-test.csv 数据上的 r2 分数，可视化模型预测结果;\n",
    "2、加入多项式特征（2次、5次），建立回归模型;\n",
    "3、计算多项式回归模型对测试数据进行预测的 r2 分数，判断哪个模型更准确;\n",
    "4、可视化多项式回归模型数据预测结果，判断哪个模型预测更准确"
   ]
  },
  {
   "cell_type": "code",
   "execution_count": 1,
   "id": "8b5f5557",
   "metadata": {},
   "outputs": [
    {
     "name": "stdout",
     "output_type": "stream",
     "text": [
      "        T  rate\n",
      "0   46.53  2.49\n",
      "1   48.14  2.56\n",
      "2   50.15  2.63\n",
      "3   51.36  2.69\n",
      "4   52.57  2.74\n",
      "5   54.18  2.80\n",
      "6   56.19  2.88\n",
      "7   58.58  2.92\n",
      "8   61.37  2.96\n",
      "9   63.34  2.95\n",
      "10  65.31  2.91\n",
      "11  66.47  2.85\n",
      "12  68.03  2.78\n",
      "13  69.97  2.69\n",
      "14  71.13  2.61\n",
      "15  71.89  2.54\n",
      "16  73.05  2.45\n",
      "17  74.21  2.39\n"
     ]
    }
   ],
   "source": [
    "# load the data\n",
    "import pandas as pd\n",
    "import numpy as np\n",
    "data_train = pd.read_csv('T-R-train.csv')\n",
    "print(data_train)"
   ]
  },
  {
   "cell_type": "code",
   "execution_count": 3,
   "id": "5bc7536e",
   "metadata": {},
   "outputs": [
    {
     "data": {
      "text/plain": [
       "0    2.49\n",
       "1    2.56\n",
       "2    2.63\n",
       "3    2.69\n",
       "4    2.74\n",
       "Name: rate, dtype: float64"
      ]
     },
     "execution_count": 3,
     "metadata": {},
     "output_type": "execute_result"
    }
   ],
   "source": [
    "# define X_train and y_train\n",
    "X_train = data_train.loc[:, 'T']\n",
    "y_train = data_train.loc[:, 'rate']\n",
    "y_train.head()"
   ]
  },
  {
   "cell_type": "code",
   "execution_count": 5,
   "id": "759d71a2",
   "metadata": {},
   "outputs": [
    {
     "data": {
      "image/png": "[encoded data removed]",
      "text/plain": [
       "<Figure size 360x360 with 1 Axes>"
      ]
     },
     "metadata": {
      "needs_background": "light"
     },
     "output_type": "display_data"
    }
   ],
   "source": [
    "# visualize the data\n",
    "%matplotlib inline\n",
    "from matplotlib import pyplot as plt\n",
    "fig1 = plt.figure(figsize=(5, 5))\n",
    "plt.scatter(X_train, y_train)\n",
    "plt.title('raw data')\n",
    "plt.xlabel('temperature')\n",
    "plt.ylabel('rate')\n",
    "plt.show()"
   ]
  },
  {
   "cell_type": "code",
   "execution_count": 7,
   "id": "830036be",
   "metadata": {},
   "outputs": [],
   "source": [
    "X_train = np.array(X_train).reshape(-1, 1)"
   ]
  },
  {
   "cell_type": "code",
   "execution_count": 8,
   "id": "1e325c7b",
   "metadata": {},
   "outputs": [
    {
     "data": {
      "text/html": [
       "<style>#sk-container-id-1 {color: black;background-color: white;}#sk-container-id-1 pre{padding: 0;}#sk-container-id-1 div.sk-toggleable {background-color: white;}#sk-container-id-1 label.sk-toggleable__label {cursor: pointer;display: block;width: 100%;margin-bottom: 0;padding: 0.3em;box-sizing: border-box;text-align: center;}#sk-container-id-1 label.sk-toggleable__label-arrow:before {content: \"▸\";float: left;margin-right: 0.25em;color: #696969;}#sk-container-id-1 label.sk-toggleable__label-arrow:hover:before {color: black;}#sk-container-id-1 div.sk-estimator:hover label.sk-toggleable__label-arrow:before {color: black;}#sk-container-id-1 div.sk-toggleable__content {max-height: 0;max-width: 0;overflow: hidden;text-align: left;background-color: #f0f8ff;}#sk-container-id-1 div.sk-toggleable__content pre {margin: 0.2em;color: black;border-radius: 0.25em;background-color: #f0f8ff;}#sk-container-id-1 input.sk-toggleable__control:checked~div.sk-toggleable__content {max-height: 200px;max-width: 100%;overflow: auto;}#sk-container-id-1 input.sk-toggleable__control:checked~label.sk-toggleable__label-arrow:before {content: \"▾\";}#sk-container-id-1 div.sk-estimator input.sk-toggleable__control:checked~label.sk-toggleable__label {background-color: #d4ebff;}#sk-container-id-1 div.sk-label input.sk-toggleable__control:checked~label.sk-toggleable__label {background-color: #d4ebff;}#sk-container-id-1 input.sk-hidden--visually {border: 0;clip: rect(1px 1px 1px 1px);clip: rect(1px, 1px, 1px, 1px);height: 1px;margin: -1px;overflow: hidden;padding: 0;position: absolute;width: 1px;}#sk-container-id-1 div.sk-estimator {font-family: monospace;background-color: #f0f8ff;border: 1px dotted black;border-radius: 0.25em;box-sizing: border-box;margin-bottom: 0.5em;}#sk-container-id-1 div.sk-estimator:hover {background-color: #d4ebff;}#sk-container-id-1 div.sk-parallel-item::after {content: \"\";width: 100%;border-bottom: 1px solid gray;flex-grow: 1;}#sk-container-id-1 div.sk-label:hover label.sk-toggleable__label {background-color: #d4ebff;}#sk-container-id-1 div.sk-serial::before {content: \"\";position: absolute;border-left: 1px solid gray;box-sizing: border-box;top: 0;bottom: 0;left: 50%;z-index: 0;}#sk-container-id-1 div.sk-serial {display: flex;flex-direction: column;align-items: center;background-color: white;padding-right: 0.2em;padding-left: 0.2em;position: relative;}#sk-container-id-1 div.sk-item {position: relative;z-index: 1;}#sk-container-id-1 div.sk-parallel {display: flex;align-items: stretch;justify-content: center;background-color: white;position: relative;}#sk-container-id-1 div.sk-item::before, #sk-container-id-1 div.sk-parallel-item::before {content: \"\";position: absolute;border-left: 1px solid gray;box-sizing: border-box;top: 0;bottom: 0;left: 50%;z-index: -1;}#sk-container-id-1 div.sk-parallel-item {display: flex;flex-direction: column;z-index: 1;position: relative;background-color: white;}#sk-container-id-1 div.sk-parallel-item:first-child::after {align-self: flex-end;width: 50%;}#sk-container-id-1 div.sk-parallel-item:last-child::after {align-self: flex-start;width: 50%;}#sk-container-id-1 div.sk-parallel-item:only-child::after {width: 0;}#sk-container-id-1 div.sk-dashed-wrapped {border: 1px dashed gray;margin: 0 0.4em 0.5em 0.4em;box-sizing: border-box;padding-bottom: 0.4em;background-color: white;}#sk-container-id-1 div.sk-label label {font-family: monospace;font-weight: bold;display: inline-block;line-height: 1.2em;}#sk-container-id-1 div.sk-label-container {text-align: center;}#sk-container-id-1 div.sk-container {/* jupyter's `normalize.less` sets `[hidden] { display: none; }` but bootstrap.min.css set `[hidden] { display: none !important; }` so we also need the `!important` here to be able to override the default hidden behavior on the sphinx rendered scikit-learn.org. See: https://github.com/scikit-learn/scikit-learn/issues/21755 */display: inline-block !important;position: relative;}#sk-container-id-1 div.sk-text-repr-fallback {display: none;}</style><div id=\"sk-container-id-1\" class=\"sk-top-container\"><div class=\"sk-text-repr-fallback\"><pre>LinearRegression()</pre><b>In a Jupyter environment, please rerun this cell to show the HTML representation or trust the notebook. <br />On GitHub, the HTML representation is unable to render, please try loading this page with nbviewer.org.</b></div><div class=\"sk-container\" hidden><div class=\"sk-item\"><div class=\"sk-estimator sk-toggleable\"><input class=\"sk-toggleable__control sk-hidden--visually\" id=\"sk-estimator-id-1\" type=\"checkbox\" checked><label for=\"sk-estimator-id-1\" class=\"sk-toggleable__label sk-toggleable__label-arrow\">LinearRegression</label><div class=\"sk-toggleable__content\"><pre>LinearRegression()</pre></div></div></div></div></div>"
      ],
      "text/plain": [
       "LinearRegression()"
      ]
     },
     "execution_count": 8,
     "metadata": {},
     "output_type": "execute_result"
    }
   ],
   "source": [
    "# linear regression model prediction\n",
    "from sklearn.linear_model import LinearRegression\n",
    "lr1 = LinearRegression()\n",
    "lr1.fit(X_train, y_train)"
   ]
  },
  {
   "cell_type": "code",
   "execution_count": 10,
   "id": "358d5b3d",
   "metadata": {},
   "outputs": [],
   "source": [
    "# load the test data\n",
    "data_test = pd.read_csv('T-R-test.csv')\n",
    "X_test = data_test.loc[:, 'T']\n",
    "y_test = data_test.loc[:, 'rate']"
   ]
  },
  {
   "cell_type": "code",
   "execution_count": 11,
   "id": "6395809f",
   "metadata": {},
   "outputs": [],
   "source": [
    "X_test = np.array(X_test).reshape(-1, 1)"
   ]
  },
  {
   "cell_type": "code",
   "execution_count": 13,
   "id": "8b1844d2",
   "metadata": {},
   "outputs": [
    {
     "name": "stdout",
     "output_type": "stream",
     "text": [
      "training r2: 0.016665703886981964\n",
      "test r2: -0.758336343735132\n"
     ]
    }
   ],
   "source": [
    "# make prediction on the training and testing data\n",
    "y_train_predict = lr1.predict(X_train)\n",
    "y_test_predict = lr1.predict(X_test)\n",
    "from sklearn.metrics import r2_score\n",
    "r2_train = r2_score(y_train, y_train_predict)\n",
    "r2_test = r2_score(y_test, y_test_predict)\n",
    "print('training r2:', r2_train)\n",
    "print('test r2:', r2_test)"
   ]
  },
  {
   "cell_type": "code",
   "execution_count": 16,
   "id": "5a4d02f0",
   "metadata": {},
   "outputs": [
    {
     "data": {
      "image/png": "[encoded data removed]",
      "text/plain": [
       "<Figure size 360x360 with 1 Axes>"
      ]
     },
     "metadata": {
      "needs_background": "light"
     },
     "output_type": "display_data"
    }
   ],
   "source": [
    "# generate new data\n",
    "X_range = np.linspace(40, 90, 300).reshape(-1, 1)\n",
    "y_range_predict = lr1.predict(X_range)\n",
    "fig2 = plt.figure(figsize=(5, 5))\n",
    "plt.scatter(X_train, y_train)\n",
    "plt.plot(X_range, y_range_predict)\n",
    "plt.title('prediction data')\n",
    "plt.xlabel('temperature')\n",
    "plt.ylabel('rate')\n",
    "plt.show()"
   ]
  },
  {
   "cell_type": "code",
   "execution_count": 24,
   "id": "fb5af7de",
   "metadata": {},
   "outputs": [
    {
     "name": "stdout",
     "output_type": "stream",
     "text": [
      "[[1.00000000e+00 4.65300000e+01 2.16504090e+03 1.00739353e+05\n",
      "  4.68740210e+06 2.18104820e+08]\n",
      " [1.00000000e+00 4.81400000e+01 2.31745960e+03 1.11562505e+05\n",
      "  5.37061900e+06 2.58541599e+08]\n",
      " [1.00000000e+00 5.01500000e+01 2.51502250e+03 1.26128378e+05\n",
      "  6.32533818e+06 3.17215710e+08]\n",
      " [1.00000000e+00 5.13600000e+01 2.63784960e+03 1.35479955e+05\n",
      "  6.95825051e+06 3.57375746e+08]\n",
      " [1.00000000e+00 5.25700000e+01 2.76360490e+03 1.45282710e+05\n",
      "  7.63751204e+06 4.01504008e+08]\n",
      " [1.00000000e+00 5.41800000e+01 2.93547240e+03 1.59043895e+05\n",
      "  8.61699821e+06 4.66868963e+08]\n",
      " [1.00000000e+00 5.61900000e+01 3.15731610e+03 1.77409592e+05\n",
      "  9.96864496e+06 5.60138160e+08]\n",
      " [1.00000000e+00 5.85800000e+01 3.43161640e+03 2.01024089e+05\n",
      "  1.17759911e+07 6.89837560e+08]\n",
      " [1.00000000e+00 6.13700000e+01 3.76627690e+03 2.31136413e+05\n",
      "  1.41848417e+07 8.70523734e+08]\n",
      " [1.00000000e+00 6.33400000e+01 4.01195560e+03 2.54117268e+05\n",
      "  1.60957877e+07 1.01950720e+09]\n",
      " [1.00000000e+00 6.53100000e+01 4.26539610e+03 2.78573019e+05\n",
      "  1.81936039e+07 1.18822427e+09]\n",
      " [1.00000000e+00 6.64700000e+01 4.41826090e+03 2.93681802e+05\n",
      "  1.95210294e+07 1.29756282e+09]\n",
      " [1.00000000e+00 6.80300000e+01 4.62808090e+03 3.14848344e+05\n",
      "  2.14191328e+07 1.45714361e+09]\n",
      " [1.00000000e+00 6.99700000e+01 4.89580090e+03 3.42559189e+05\n",
      "  2.39688665e+07 1.67710159e+09]\n",
      " [1.00000000e+00 7.11300000e+01 5.05947690e+03 3.59880592e+05\n",
      "  2.55983065e+07 1.82080754e+09]\n",
      " [1.00000000e+00 7.18900000e+01 5.16817210e+03 3.71539892e+05\n",
      "  2.67100029e+07 1.92018211e+09]\n",
      " [1.00000000e+00 7.30500000e+01 5.33630250e+03 3.89816898e+05\n",
      "  2.84761244e+07 2.08018089e+09]\n",
      " [1.00000000e+00 7.42100000e+01 5.50712410e+03 4.08683679e+05\n",
      "  3.03284159e+07 2.25067174e+09]]\n"
     ]
    }
   ],
   "source": [
    "# 多项式模型\n",
    "# generate new features\n",
    "from sklearn.preprocessing import PolynomialFeatures\n",
    "poly2 = PolynomialFeatures(degree=2)\n",
    "X_2_train = poly2.fit_transform(X_train)\n",
    "X_2_test = poly2.transform(X_test)\n",
    "poly5 = PolynomialFeatures(degree=5)\n",
    "X_5_train = poly5.fit_transform(X_train)\n",
    "X_5_test = poly5.transform(X_test)\n",
    "print(X_5_train)"
   ]
  },
  {
   "cell_type": "code",
   "execution_count": 18,
   "id": "a089a85b",
   "metadata": {},
   "outputs": [
    {
     "name": "stdout",
     "output_type": "stream",
     "text": [
      "training r2_2: 0.9700515400689422\n",
      "test r2_2: 0.9963954556468684\n"
     ]
    }
   ],
   "source": [
    "lr2 = LinearRegression()\n",
    "lr2.fit(X_2_train, y_train)\n",
    "y_2_train_predict = lr2.predict(X_2_train)\n",
    "y_2_test_predict = lr2.predict(X_2_test)\n",
    "r2_2_train = r2_score(y_train, y_2_train_predict)\n",
    "r2_2_test = r2_score(y_test, y_2_test_predict)\n",
    "print('training r2_2:', r2_2_train)\n",
    "print('test r2_2:', r2_2_test)"
   ]
  },
  {
   "cell_type": "code",
   "execution_count": 19,
   "id": "f41a726e",
   "metadata": {},
   "outputs": [],
   "source": [
    "X_2_range = np.linspace(40, 90, 300).reshape(-1, 1)\n",
    "X_2_range = poly2.transform(X_2_range)\n",
    "y_2_range_predict = lr2.predict(X_2_range)"
   ]
  },
  {
   "cell_type": "code",
   "execution_count": 23,
   "id": "87fe1fa2",
   "metadata": {},
   "outputs": [
    {
     "data": {
      "image/png": "[encoded data removed]",
      "text/plain": [
       "<Figure size 360x360 with 1 Axes>"
      ]
     },
     "metadata": {
      "needs_background": "light"
     },
     "output_type": "display_data"
    }
   ],
   "source": [
    "fig3 = plt.figure(figsize=(5, 5))\n",
    "plt.scatter(X_train, y_train)\n",
    "plt.scatter(X_test, y_test)\n",
    "plt.plot(X_range, y_2_range_predict)\n",
    "plt.title('polynomial prediction result(2)')\n",
    "plt.xlabel('temperature')\n",
    "plt.ylabel('rate')\n",
    "plt.show()"
   ]
  },
  {
   "cell_type": "code",
   "execution_count": 25,
   "id": "3ad4ff44",
   "metadata": {},
   "outputs": [
    {
     "name": "stdout",
     "output_type": "stream",
     "text": [
      "training r2_5: 0.9978527267187439\n",
      "test r2_5: 0.5437837627380017\n"
     ]
    }
   ],
   "source": [
    "lr5 = LinearRegression()\n",
    "lr5.fit(X_5_train, y_train)\n",
    "y_5_train_predict = lr5.predict(X_5_train)\n",
    "y_5_test_predict = lr5.predict(X_5_test)\n",
    "r2_5_train = r2_score(y_train, y_5_train_predict)\n",
    "r2_5_test = r2_score(y_test, y_5_test_predict)\n",
    "print('training r2_5:', r2_5_train)\n",
    "print('test r2_5:', r2_5_test)"
   ]
  },
  {
   "cell_type": "code",
   "execution_count": 26,
   "id": "5d5f806a",
   "metadata": {},
   "outputs": [],
   "source": [
    "X_5_range = np.linspace(40, 90, 300).reshape(-1, 1)\n",
    "X_5_range = poly5.transform(X_5_range)\n",
    "y_5_range_predict = lr5.predict(X_5_range)"
   ]
  },
  {
   "cell_type": "code",
   "execution_count": 27,
   "id": "b844ac0f",
   "metadata": {},
   "outputs": [
    {
     "data": {
      "image/png": "[encoded data removed]",
      "text/plain": [
       "<Figure size 360x360 with 1 Axes>"
      ]
     },
     "metadata": {
      "needs_background": "light"
     },
     "output_type": "display_data"
    }
   ],
   "source": [
    "fig4 = plt.figure(figsize=(5, 5))\n",
    "plt.scatter(X_train, y_train)\n",
    "plt.scatter(X_test, y_test)\n",
    "plt.plot(X_range, y_5_range_predict)\n",
    "plt.title('polynomial prediction result(5)')\n",
    "plt.xlabel('temperature')\n",
    "plt.ylabel('rate')\n",
    "plt.show()"
   ]
  }
 ],
 "metadata": {
  "kernelspec": {
   "display_name": "Python 3 (ipykernel)",
   "language": "python",
   "name": "python3"
  },
  "language_info": {
   "codemirror_mode": {
    "name": "ipython",
    "version": 3
   },
   "file_extension": ".py",
   "mimetype": "text/x-python",
   "name": "python",
   "nbconvert_exporter": "python",
   "pygments_lexer": "ipython3",
   "version": "3.10.4"
  }
 },
 "nbformat": 4,
 "nbformat_minor": 5
}
