{
 "cells": [
  {
   "cell_type": "markdown",
   "id": "ded5b27e",
   "metadata": {},
   "source": [
    "# AI开发实战基础\n",
    "1.下载、安装python\n",
    "2.下载、安装Anaconda\n",
    "3.新建开发环境、安装jupyter-notebook\n",
    "    -配置: conda create -n env_name\n",
    "    -配置: conda activate enc_name\n",
    "4.Jupyter Notebook界面优化\n",
    "    -https://github.com/dunovank/jupyter-themes\n",
    "    -配置: jt -t grade3 -f fira -fs 16 -cellw 90% -ofs 11 -dfs 11 -T\n",
    "5.Python基本语法、numpy、pandas、matplotlib安装与测试"
   ]
  },
  {
   "cell_type": "code",
   "execution_count": 1,
   "id": "c27ceb3b",
   "metadata": {},
   "outputs": [
    {
     "name": "stdout",
     "output_type": "stream",
     "text": [
      "1 2\n"
     ]
    }
   ],
   "source": [
    "a = 1\n",
    "b = 2\n",
    "print(a, b)"
   ]
  },
  {
   "cell_type": "code",
   "execution_count": 2,
   "id": "c0411ddf",
   "metadata": {},
   "outputs": [
    {
     "name": "stdout",
     "output_type": "stream",
     "text": [
      "3\n"
     ]
    }
   ],
   "source": [
    "c = a + b\n",
    "print(c)"
   ]
  }
 ],
 "metadata": {
  "kernelspec": {
   "display_name": "Python 3 (ipykernel)",
   "language": "python",
   "name": "python3"
  },
  "language_info": {
   "codemirror_mode": {
    "name": "ipython",
    "version": 3
   },
   "file_extension": ".py",
   "mimetype": "text/x-python",
   "name": "python",
   "nbconvert_exporter": "python",
   "pygments_lexer": "ipython3",
   "version": "3.10.4"
  }
 },
 "nbformat": 4,
 "nbformat_minor": 5
}
